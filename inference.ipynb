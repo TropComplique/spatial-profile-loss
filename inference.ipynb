{
 "cells": [
  {
   "cell_type": "code",
   "execution_count": null,
   "metadata": {},
   "outputs": [],
   "source": [
    "import torch\n",
    "import numpy as np\n",
    "from PIL import Image\n",
    "\n",
    "from input_pipeline import Images\n",
    "from generator import Generator\n",
    "from train import Simplifier"
   ]
  },
  {
   "cell_type": "code",
   "execution_count": null,
   "metadata": {},
   "outputs": [],
   "source": [
    "DEVICE = torch.device('cpu')\n",
    "simplifier = Simplifier()"
   ]
  },
  {
   "cell_type": "markdown",
   "metadata": {},
   "source": [
    "# Load images"
   ]
  },
  {
   "cell_type": "code",
   "execution_count": null,
   "metadata": {},
   "outputs": [],
   "source": [
    "WIDTH, HEIGHT = 1024, 1024\n",
    "DATA = '/home/dan/datasets/patterns/images/'\n",
    "dataset = Images(folder=DATA, size=(HEIGHT, WIDTH))\n",
    "\n",
    "B = dataset[0].unsqueeze(0)\n",
    "\n",
    "# s = 1.0\n",
    "# image = Image.open('/home/dan/datasets/COCO/images/train2017/000000458625.jpg')\n",
    "# w, h = image.size\n",
    "# WIDTH, HEIGHT = int(s * w), int(s * h)\n",
    "# image = image.resize((WIDTH, HEIGHT))\n",
    "# image = np.array(image, dtype='float32')/255.0\n",
    "# B = torch.FloatTensor(image).permute(2, 0, 1).unsqueeze(0)\n",
    "\n",
    "A = simplifier(B).to(DEVICE)\n",
    "B = B.to(DEVICE)"
   ]
  },
  {
   "cell_type": "markdown",
   "metadata": {},
   "source": [
    "# Show images"
   ]
  },
  {
   "cell_type": "code",
   "execution_count": null,
   "metadata": {},
   "outputs": [],
   "source": [
    "edges = A.squeeze(0).cpu().permute(1, 2, 0).numpy()[:, :, 0]\n",
    "image = B.squeeze(0).cpu().permute(1, 2, 0).numpy()\n",
    "\n",
    "edges = (edges * 255).astype('uint8')\n",
    "image = (image * 255).astype('uint8')\n",
    "\n",
    "Image.fromarray(image)"
   ]
  },
  {
   "cell_type": "code",
   "execution_count": null,
   "metadata": {},
   "outputs": [],
   "source": [
    "Image.fromarray(edges)"
   ]
  },
  {
   "cell_type": "markdown",
   "metadata": {},
   "source": [
    "# Load the model"
   ]
  },
  {
   "cell_type": "code",
   "execution_count": null,
   "metadata": {},
   "outputs": [],
   "source": [
    "G = Generator(1, 3).eval().to(DEVICE)\n",
    "G.load_state_dict(torch.load('models/run00_epoch_100_generator.pth', map_location=DEVICE))"
   ]
  },
  {
   "cell_type": "markdown",
   "metadata": {},
   "source": [
    "# Generate"
   ]
  },
  {
   "cell_type": "code",
   "execution_count": null,
   "metadata": {},
   "outputs": [],
   "source": [
    "with torch.no_grad():\n",
    "    B_generated = G(A)\n",
    "\n",
    "image = B_generated.squeeze(0).permute(1, 2, 0).cpu().numpy()\n",
    "image = (image * 255).astype('uint8')\n",
    "Image.fromarray(image)"
   ]
  },
  {
   "cell_type": "markdown",
   "metadata": {},
   "source": [
    "# Generate iteratively"
   ]
  },
  {
   "cell_type": "code",
   "execution_count": null,
   "metadata": {},
   "outputs": [],
   "source": [
    "num_iterations = 3\n",
    "grid = Image.new('RGB', (WIDTH, num_iterations * HEIGHT))\n",
    "\n",
    "A_current = A.clone()\n",
    "for i in range(num_iterations):\n",
    "\n",
    "    with torch.no_grad():\n",
    "        B_generated = G(A_current)\n",
    "        B_generated = B_generated.cpu()\n",
    "        A_current = simplifier(B_generated).to(DEVICE)\n",
    "\n",
    "    image = B_generated.squeeze(0).permute(1, 2, 0).numpy()\n",
    "    image = (image * 255).astype('uint8')\n",
    "    image = Image.fromarray(image)\n",
    "    grid.paste(image, (0, i * HEIGHT))     \n",
    "\n",
    "grid"
   ]
  }
 ],
 "metadata": {
  "kernelspec": {
   "display_name": "Python 3",
   "language": "python",
   "name": "python3"
  },
  "language_info": {
   "codemirror_mode": {
    "name": "ipython",
    "version": 3
   },
   "file_extension": ".py",
   "mimetype": "text/x-python",
   "name": "python",
   "nbconvert_exporter": "python",
   "pygments_lexer": "ipython3",
   "version": "3.7.3"
  }
 },
 "nbformat": 4,
 "nbformat_minor": 2
}
